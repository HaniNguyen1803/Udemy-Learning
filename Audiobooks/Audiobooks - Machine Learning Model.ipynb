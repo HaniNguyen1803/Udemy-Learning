{
 "cells": [
  {
   "cell_type": "markdown",
   "metadata": {},
   "source": [
    "## Audiobooks - Machine Learning Model"
   ]
  },
  {
   "cell_type": "markdown",
   "metadata": {},
   "source": [
    "### 1. Load libraries and data "
   ]
  },
  {
   "cell_type": "code",
   "execution_count": 1,
   "metadata": {},
   "outputs": [],
   "source": [
    "# import libraries\n",
    "import numpy as np\n",
    "import tensorflow as tf\n",
    "\n",
    "#load train data\n",
    "npz = np.load('Audiobooks_data_train.npz')\n",
    "train_inputs = npz['inputs'].astype(np.float)\n",
    "train_targets = npz['targets'].astype(np.int)\n",
    "\n",
    "#load validation data\n",
    "npz = np.load('Audiobooks_data_validation.npz')\n",
    "validation_inputs, validation_targets = npz['inputs'].astype(np.float), npz['targets'].astype(np.int)\n",
    "\n",
    "#load test data\n",
    "npz = np.load('Audiobooks_data_test.npz')\n",
    "test_inputs, test_targets = npz['inputs'].astype(np.float), npz['targets'].astype(np.int)"
   ]
  },
  {
   "cell_type": "markdown",
   "metadata": {},
   "source": [
    "### 2. First Model"
   ]
  },
  {
   "cell_type": "markdown",
   "metadata": {},
   "source": [
    "Outline, optimizers, loss"
   ]
  },
  {
   "cell_type": "code",
   "execution_count": null,
   "metadata": {},
   "outputs": [
    {
     "name": "stdout",
     "output_type": "stream",
     "text": [
      "Train on 3579 samples, validate on 447 samples\n",
      "Epoch 1/100\n",
      "3579/3579 - 1s - loss: 0.5230 - accuracy: 0.8449 - val_loss: 0.4137 - val_accuracy: 0.8501\n",
      "Epoch 2/100\n",
      "3579/3579 - 0s - loss: 0.3592 - accuracy: 0.8737 - val_loss: 0.3542 - val_accuracy: 0.8635\n",
      "Epoch 3/100\n",
      "3579/3579 - 0s - loss: 0.3155 - accuracy: 0.8838 - val_loss: 0.3285 - val_accuracy: 0.8770\n",
      "Epoch 4/100\n",
      "3579/3579 - 0s - loss: 0.2982 - accuracy: 0.8882 - val_loss: 0.3140 - val_accuracy: 0.8837\n",
      "Epoch 5/100\n",
      "3579/3579 - 0s - loss: 0.2835 - accuracy: 0.8938 - val_loss: 0.2903 - val_accuracy: 0.8904\n",
      "Epoch 6/100\n",
      "3579/3579 - 0s - loss: 0.2758 - accuracy: 0.8952 - val_loss: 0.2788 - val_accuracy: 0.8949\n",
      "Epoch 7/100\n",
      "3579/3579 - 0s - loss: 0.2656 - accuracy: 0.9011 - val_loss: 0.2701 - val_accuracy: 0.8971\n",
      "Epoch 8/100\n",
      "3579/3579 - 0s - loss: 0.2601 - accuracy: 0.9030 - val_loss: 0.2691 - val_accuracy: 0.8971\n",
      "Epoch 9/100\n",
      "3579/3579 - 0s - loss: 0.2544 - accuracy: 0.9050 - val_loss: 0.2577 - val_accuracy: 0.9038\n",
      "Epoch 10/100\n",
      "3579/3579 - 0s - loss: 0.2526 - accuracy: 0.9064 - val_loss: 0.2555 - val_accuracy: 0.9038\n",
      "Epoch 11/100\n",
      "3579/3579 - 0s - loss: 0.2491 - accuracy: 0.9058 - val_loss: 0.2572 - val_accuracy: 0.9038\n",
      "Epoch 12/100\n",
      "3579/3579 - 0s - loss: 0.2465 - accuracy: 0.9070 - val_loss: 0.2539 - val_accuracy: 0.9038\n",
      "Epoch 13/100\n",
      "3579/3579 - 0s - loss: 0.2461 - accuracy: 0.9084 - val_loss: 0.2546 - val_accuracy: 0.9016\n",
      "Epoch 14/100\n",
      "3579/3579 - 0s - loss: 0.2435 - accuracy: 0.9092 - val_loss: 0.2550 - val_accuracy: 0.9038\n",
      "Epoch 15/100\n",
      "3579/3579 - 0s - loss: 0.2425 - accuracy: 0.9103 - val_loss: 0.2569 - val_accuracy: 0.9016\n",
      "Epoch 16/100\n",
      "3579/3579 - 0s - loss: 0.2389 - accuracy: 0.9114 - val_loss: 0.2558 - val_accuracy: 0.9038\n",
      "Epoch 17/100\n",
      "3579/3579 - 0s - loss: 0.2382 - accuracy: 0.9111 - val_loss: 0.2551 - val_accuracy: 0.8993\n",
      "Epoch 18/100\n",
      "3579/3579 - 0s - loss: 0.2387 - accuracy: 0.9125 - val_loss: 0.2475 - val_accuracy: 0.9016\n",
      "Epoch 19/100\n",
      "3579/3579 - 0s - loss: 0.2364 - accuracy: 0.9125 - val_loss: 0.2518 - val_accuracy: 0.9016\n",
      "Epoch 20/100\n",
      "3579/3579 - 0s - loss: 0.2312 - accuracy: 0.9145 - val_loss: 0.2453 - val_accuracy: 0.9038\n",
      "Epoch 21/100\n",
      "3579/3579 - 0s - loss: 0.2320 - accuracy: 0.9137 - val_loss: 0.2504 - val_accuracy: 0.9016\n",
      "Epoch 22/100\n",
      "3579/3579 - 0s - loss: 0.2303 - accuracy: 0.9125 - val_loss: 0.2508 - val_accuracy: 0.9060\n",
      "Epoch 23/100\n",
      "3579/3579 - 0s - loss: 0.2338 - accuracy: 0.9134 - val_loss: 0.2576 - val_accuracy: 0.8971\n",
      "Epoch 24/100\n",
      "3579/3579 - 0s - loss: 0.2300 - accuracy: 0.9167 - val_loss: 0.2487 - val_accuracy: 0.9038\n",
      "Epoch 25/100\n",
      "3579/3579 - 0s - loss: 0.2308 - accuracy: 0.9151 - val_loss: 0.2450 - val_accuracy: 0.9038\n",
      "Epoch 26/100\n",
      "3579/3579 - 0s - loss: 0.2291 - accuracy: 0.9159 - val_loss: 0.2436 - val_accuracy: 0.9016\n",
      "Epoch 27/100\n",
      "3579/3579 - 0s - loss: 0.2282 - accuracy: 0.9165 - val_loss: 0.2584 - val_accuracy: 0.9038\n",
      "Epoch 28/100\n",
      "3579/3579 - 0s - loss: 0.2281 - accuracy: 0.9167 - val_loss: 0.2399 - val_accuracy: 0.8993\n",
      "Epoch 29/100\n",
      "3579/3579 - 0s - loss: 0.2247 - accuracy: 0.9173 - val_loss: 0.2457 - val_accuracy: 0.9038\n",
      "Epoch 30/100\n",
      "3579/3579 - 0s - loss: 0.2237 - accuracy: 0.9167 - val_loss: 0.2383 - val_accuracy: 0.9038\n",
      "Epoch 31/100\n",
      "3579/3579 - 0s - loss: 0.2238 - accuracy: 0.9181 - val_loss: 0.2438 - val_accuracy: 0.9038\n",
      "Epoch 32/100\n",
      "3579/3579 - 0s - loss: 0.2243 - accuracy: 0.9165 - val_loss: 0.2414 - val_accuracy: 0.9038\n",
      "Epoch 33/100\n",
      "3579/3579 - 0s - loss: 0.2245 - accuracy: 0.9162 - val_loss: 0.2483 - val_accuracy: 0.9060\n",
      "Epoch 34/100\n",
      "3579/3579 - 0s - loss: 0.2223 - accuracy: 0.9184 - val_loss: 0.2508 - val_accuracy: 0.9060\n",
      "Epoch 35/100\n",
      "3579/3579 - 0s - loss: 0.2233 - accuracy: 0.9179 - val_loss: 0.2500 - val_accuracy: 0.9060\n",
      "Epoch 36/100\n",
      "3579/3579 - 0s - loss: 0.2217 - accuracy: 0.9167 - val_loss: 0.2418 - val_accuracy: 0.9038\n",
      "Epoch 37/100\n",
      "3579/3579 - 0s - loss: 0.2224 - accuracy: 0.9184 - val_loss: 0.2453 - val_accuracy: 0.9060\n",
      "Epoch 38/100\n",
      "3579/3579 - 0s - loss: 0.2228 - accuracy: 0.9167 - val_loss: 0.2531 - val_accuracy: 0.9060\n",
      "Epoch 39/100\n",
      "3579/3579 - 0s - loss: 0.2211 - accuracy: 0.9179 - val_loss: 0.2408 - val_accuracy: 0.9016\n",
      "Epoch 40/100\n",
      "3579/3579 - 0s - loss: 0.2208 - accuracy: 0.9206 - val_loss: 0.2502 - val_accuracy: 0.9060\n",
      "Epoch 41/100\n",
      "3579/3579 - 0s - loss: 0.2216 - accuracy: 0.9165 - val_loss: 0.2599 - val_accuracy: 0.9038\n",
      "Epoch 42/100\n",
      "3579/3579 - 0s - loss: 0.2219 - accuracy: 0.9173 - val_loss: 0.2444 - val_accuracy: 0.8971\n",
      "Epoch 43/100\n",
      "3579/3579 - 0s - loss: 0.2199 - accuracy: 0.9201 - val_loss: 0.2438 - val_accuracy: 0.9060\n",
      "Epoch 44/100\n",
      "3579/3579 - 0s - loss: 0.2254 - accuracy: 0.9167 - val_loss: 0.2579 - val_accuracy: 0.8993\n",
      "Epoch 45/100\n",
      "3579/3579 - 0s - loss: 0.2230 - accuracy: 0.9181 - val_loss: 0.2509 - val_accuracy: 0.9060\n",
      "Epoch 46/100\n",
      "3579/3579 - 0s - loss: 0.2177 - accuracy: 0.9204 - val_loss: 0.2465 - val_accuracy: 0.9038\n",
      "Epoch 47/100\n",
      "3579/3579 - 0s - loss: 0.2167 - accuracy: 0.9184 - val_loss: 0.2397 - val_accuracy: 0.9038\n",
      "Epoch 48/100\n",
      "3579/3579 - 0s - loss: 0.2188 - accuracy: 0.9173 - val_loss: 0.2489 - val_accuracy: 0.9083\n",
      "Epoch 49/100\n",
      "3579/3579 - 0s - loss: 0.2167 - accuracy: 0.9206 - val_loss: 0.2532 - val_accuracy: 0.9083\n",
      "Epoch 50/100\n",
      "3579/3579 - 0s - loss: 0.2155 - accuracy: 0.9190 - val_loss: 0.2420 - val_accuracy: 0.8993\n",
      "Epoch 51/100\n",
      "3579/3579 - 0s - loss: 0.2177 - accuracy: 0.9212 - val_loss: 0.2396 - val_accuracy: 0.9016\n",
      "Epoch 52/100\n",
      "3579/3579 - 0s - loss: 0.2163 - accuracy: 0.9184 - val_loss: 0.2585 - val_accuracy: 0.9038\n",
      "Epoch 53/100\n",
      "3579/3579 - 0s - loss: 0.2159 - accuracy: 0.9181 - val_loss: 0.2357 - val_accuracy: 0.9016\n",
      "Epoch 54/100\n",
      "3579/3579 - 0s - loss: 0.2128 - accuracy: 0.9212 - val_loss: 0.2514 - val_accuracy: 0.9083\n",
      "Epoch 55/100\n",
      "3579/3579 - 0s - loss: 0.2160 - accuracy: 0.9195 - val_loss: 0.2420 - val_accuracy: 0.9016\n",
      "Epoch 56/100\n",
      "3579/3579 - 0s - loss: 0.2137 - accuracy: 0.9193 - val_loss: 0.2470 - val_accuracy: 0.9038\n",
      "Epoch 57/100\n",
      "3579/3579 - 0s - loss: 0.2130 - accuracy: 0.9223 - val_loss: 0.2421 - val_accuracy: 0.9038\n",
      "Epoch 58/100\n",
      "3579/3579 - 0s - loss: 0.2146 - accuracy: 0.9201 - val_loss: 0.2431 - val_accuracy: 0.9060\n",
      "Epoch 59/100\n",
      "3579/3579 - 0s - loss: 0.2135 - accuracy: 0.9215 - val_loss: 0.2409 - val_accuracy: 0.9038\n",
      "Epoch 60/100\n",
      "3579/3579 - 0s - loss: 0.2116 - accuracy: 0.9206 - val_loss: 0.2385 - val_accuracy: 0.9016\n",
      "Epoch 61/100\n",
      "3579/3579 - 0s - loss: 0.2143 - accuracy: 0.9223 - val_loss: 0.2413 - val_accuracy: 0.9038\n",
      "Epoch 62/100\n",
      "3579/3579 - 0s - loss: 0.2121 - accuracy: 0.9206 - val_loss: 0.2469 - val_accuracy: 0.9038\n",
      "Epoch 63/100\n",
      "3579/3579 - 0s - loss: 0.2118 - accuracy: 0.9201 - val_loss: 0.2390 - val_accuracy: 0.8993\n",
      "Epoch 64/100\n",
      "3579/3579 - 0s - loss: 0.2119 - accuracy: 0.9209 - val_loss: 0.2437 - val_accuracy: 0.9038\n",
      "Epoch 65/100\n",
      "3579/3579 - 0s - loss: 0.2111 - accuracy: 0.9212 - val_loss: 0.2432 - val_accuracy: 0.9016\n",
      "Epoch 66/100\n",
      "3579/3579 - 0s - loss: 0.2108 - accuracy: 0.9218 - val_loss: 0.2495 - val_accuracy: 0.9060\n",
      "Epoch 67/100\n",
      "3579/3579 - 0s - loss: 0.2133 - accuracy: 0.9218 - val_loss: 0.2621 - val_accuracy: 0.9083\n",
      "Epoch 68/100\n",
      "3579/3579 - 0s - loss: 0.2163 - accuracy: 0.9220 - val_loss: 0.2428 - val_accuracy: 0.9060\n",
      "Epoch 69/100\n",
      "3579/3579 - 0s - loss: 0.2161 - accuracy: 0.9201 - val_loss: 0.2483 - val_accuracy: 0.9060\n",
      "Epoch 70/100\n",
      "3579/3579 - 0s - loss: 0.2106 - accuracy: 0.9234 - val_loss: 0.2442 - val_accuracy: 0.9016\n",
      "Epoch 71/100\n",
      "3579/3579 - 0s - loss: 0.2104 - accuracy: 0.9218 - val_loss: 0.2464 - val_accuracy: 0.9038\n",
      "Epoch 72/100\n",
      "3579/3579 - 0s - loss: 0.2092 - accuracy: 0.9206 - val_loss: 0.2478 - val_accuracy: 0.9016\n",
      "Epoch 73/100\n",
      "3579/3579 - 0s - loss: 0.2109 - accuracy: 0.9220 - val_loss: 0.2490 - val_accuracy: 0.9060\n",
      "Epoch 74/100\n",
      "3579/3579 - 0s - loss: 0.2119 - accuracy: 0.9209 - val_loss: 0.2488 - val_accuracy: 0.9038\n",
      "Epoch 75/100\n",
      "3579/3579 - 0s - loss: 0.2114 - accuracy: 0.9212 - val_loss: 0.2402 - val_accuracy: 0.9083\n",
      "Epoch 76/100\n",
      "3579/3579 - 0s - loss: 0.2102 - accuracy: 0.9204 - val_loss: 0.2435 - val_accuracy: 0.9038\n",
      "Epoch 77/100\n",
      "3579/3579 - 0s - loss: 0.2120 - accuracy: 0.9206 - val_loss: 0.2480 - val_accuracy: 0.9060\n",
      "Epoch 78/100\n",
      "3579/3579 - 0s - loss: 0.2108 - accuracy: 0.9220 - val_loss: 0.2469 - val_accuracy: 0.9083\n",
      "Epoch 79/100\n",
      "3579/3579 - 0s - loss: 0.2110 - accuracy: 0.9209 - val_loss: 0.2374 - val_accuracy: 0.9038\n"
     ]
    },
    {
     "name": "stdout",
     "output_type": "stream",
     "text": [
      "Epoch 80/100\n",
      "3579/3579 - 0s - loss: 0.2115 - accuracy: 0.9201 - val_loss: 0.2537 - val_accuracy: 0.9083\n",
      "Epoch 81/100\n",
      "3579/3579 - 0s - loss: 0.2089 - accuracy: 0.9226 - val_loss: 0.2405 - val_accuracy: 0.9060\n",
      "Epoch 82/100\n",
      "3579/3579 - 0s - loss: 0.2083 - accuracy: 0.9206 - val_loss: 0.2418 - val_accuracy: 0.9016\n",
      "Epoch 83/100\n",
      "3579/3579 - 0s - loss: 0.2087 - accuracy: 0.9232 - val_loss: 0.2454 - val_accuracy: 0.9060\n",
      "Epoch 84/100\n",
      "3579/3579 - 0s - loss: 0.2073 - accuracy: 0.9232 - val_loss: 0.2432 - val_accuracy: 0.9038\n",
      "Epoch 85/100\n",
      "3579/3579 - 0s - loss: 0.2102 - accuracy: 0.9204 - val_loss: 0.2477 - val_accuracy: 0.9060\n",
      "Epoch 86/100\n",
      "3579/3579 - 0s - loss: 0.2107 - accuracy: 0.9215 - val_loss: 0.2487 - val_accuracy: 0.9038\n",
      "Epoch 87/100\n",
      "3579/3579 - 0s - loss: 0.2064 - accuracy: 0.9223 - val_loss: 0.2434 - val_accuracy: 0.9038\n",
      "Epoch 88/100\n",
      "3579/3579 - 0s - loss: 0.2077 - accuracy: 0.9218 - val_loss: 0.2496 - val_accuracy: 0.9083\n",
      "Epoch 89/100\n",
      "3579/3579 - 0s - loss: 0.2079 - accuracy: 0.9220 - val_loss: 0.2451 - val_accuracy: 0.9016\n",
      "Epoch 90/100\n",
      "3579/3579 - 0s - loss: 0.2078 - accuracy: 0.9220 - val_loss: 0.2465 - val_accuracy: 0.9060\n",
      "Epoch 91/100\n",
      "3579/3579 - 0s - loss: 0.2049 - accuracy: 0.9229 - val_loss: 0.2445 - val_accuracy: 0.9038\n",
      "Epoch 92/100\n",
      "3579/3579 - 0s - loss: 0.2073 - accuracy: 0.9234 - val_loss: 0.2421 - val_accuracy: 0.9038\n",
      "Epoch 93/100\n",
      "3579/3579 - 0s - loss: 0.2062 - accuracy: 0.9234 - val_loss: 0.2449 - val_accuracy: 0.9016\n",
      "Epoch 94/100\n",
      "3579/3579 - 0s - loss: 0.2089 - accuracy: 0.9206 - val_loss: 0.2467 - val_accuracy: 0.9060\n",
      "Epoch 95/100\n",
      "3579/3579 - 0s - loss: 0.2069 - accuracy: 0.9201 - val_loss: 0.2427 - val_accuracy: 0.9038\n",
      "Epoch 96/100\n",
      "3579/3579 - 0s - loss: 0.2065 - accuracy: 0.9232 - val_loss: 0.2538 - val_accuracy: 0.9038\n",
      "Epoch 97/100\n",
      "3579/3579 - 0s - loss: 0.2086 - accuracy: 0.9229 - val_loss: 0.2516 - val_accuracy: 0.9060\n",
      "Epoch 98/100\n",
      "3579/3579 - 0s - loss: 0.2091 - accuracy: 0.9232 - val_loss: 0.2476 - val_accuracy: 0.9083\n",
      "Epoch 99/100\n",
      "3579/3579 - 0s - loss: 0.2150 - accuracy: 0.9198 - val_loss: 0.2606 - val_accuracy: 0.9060\n"
     ]
    }
   ],
   "source": [
    "input_size = 10\n",
    "output_size = 2\n",
    "hidden_layer_size = 50\n",
    "\n",
    "model_1 = tf.keras.Sequential([\n",
    "                            tf.keras.layers.Dense(hidden_layer_size, activation='relu'),\n",
    "                            tf.keras.layers.Dense(hidden_layer_size, activation='relu'),\n",
    "                            tf.keras.layers.Dense(output_size, activation='softmax')\n",
    "                            ])\n",
    "\n",
    "model_1.compile(optimizer='Adam',loss='sparse_categorical_crossentropy', metrics=['accuracy'])\n",
    "\n",
    "batch_size = 100\n",
    "\n",
    "max_epochs = 100\n",
    "\n",
    "model_1.fit(train_inputs,\n",
    "           train_targets,\n",
    "           batch_size = batch_size,\n",
    "           epochs = max_epochs,\n",
    "           validation_data = (validation_inputs, validation_targets),\n",
    "           verbose = 2)"
   ]
  },
  {
   "cell_type": "markdown",
   "metadata": {},
   "source": [
    "Notice how the training loss keeps decreasing, while the validation loss fluctuates. This model overfits. "
   ]
  },
  {
   "cell_type": "markdown",
   "metadata": {},
   "source": [
    "### 3. Second Model with early stopping"
   ]
  },
  {
   "cell_type": "markdown",
   "metadata": {},
   "source": [
    "Outline, optimizers, loss, early stopping and training"
   ]
  },
  {
   "cell_type": "code",
   "execution_count": null,
   "metadata": {
    "scrolled": true
   },
   "outputs": [],
   "source": [
    "input_size = 10\n",
    "output_size = 2\n",
    "hidden_layer_size = 50\n",
    "\n",
    "model_2 = tf.keras.Sequential([\n",
    "                            tf.keras.layers.Dense(hidden_layer_size, activation='relu'),\n",
    "                            tf.keras.layers.Dense(hidden_layer_size, activation='relu'),\n",
    "                            tf.keras.layers.Dense(output_size, activation='softmax')\n",
    "                            ])\n",
    "\n",
    "model_2.compile(optimizer='Adam',loss='sparse_categorical_crossentropy', metrics=['accuracy'])\n",
    "\n",
    "batch_size = 100\n",
    "\n",
    "max_epochs = 100\n",
    "\n",
    "early_stopping = tf.keras.callbacks.EarlyStopping(patience=2)\n",
    "\n",
    "model_2.fit(train_inputs,\n",
    "           train_targets,\n",
    "           batch_size = batch_size,\n",
    "           epochs = max_epochs,\n",
    "           callbacks = [early_stopping],\n",
    "           validation_data = (validation_inputs, validation_targets),\n",
    "           verbose = 2)"
   ]
  },
  {
   "cell_type": "markdown",
   "metadata": {},
   "source": [
    "### 3. Third Model"
   ]
  },
  {
   "cell_type": "markdown",
   "metadata": {},
   "source": [
    "Outline, optimizers, loss, early stopping and training"
   ]
  },
  {
   "cell_type": "code",
   "execution_count": null,
   "metadata": {
    "scrolled": true
   },
   "outputs": [],
   "source": [
    "input_size = 10\n",
    "output_size = 2\n",
    "hidden_layer_size = 200\n",
    "\n",
    "model_3 = tf.keras.Sequential([\n",
    "                            tf.keras.layers.Dense(hidden_layer_size, activation='relu'),\n",
    "                            tf.keras.layers.Dense(hidden_layer_size, activation='relu'),\n",
    "                            tf.keras.layers.Dense(output_size, activation='softmax')\n",
    "                            ])\n",
    "\n",
    "model_3.compile(optimizer='Adam',loss='sparse_categorical_crossentropy', metrics=['accuracy'])\n",
    "\n",
    "batch_size = 50\n",
    "\n",
    "max_epochs = 100\n",
    "\n",
    "early_stopping = tf.keras.callbacks.EarlyStopping(patience=2)\n",
    "\n",
    "model_3.fit(train_inputs,\n",
    "           train_targets,\n",
    "           batch_size = batch_size,\n",
    "           epochs = max_epochs,\n",
    "           callbacks = [early_stopping],\n",
    "           validation_data = (validation_inputs, validation_targets),\n",
    "           verbose = 2)"
   ]
  },
  {
   "cell_type": "markdown",
   "metadata": {},
   "source": [
    "### 5. Test the model"
   ]
  },
  {
   "cell_type": "code",
   "execution_count": null,
   "metadata": {
    "scrolled": true
   },
   "outputs": [],
   "source": [
    "test_loss_1,test_accuracy_1 = model_1.evaluate(test_inputs,test_targets,verbose=2)\n",
    "print('Model 1. Test loss: {0:.2f}. Test accuracy: {1:.2f}%'.format(test_loss_1,test_accuracy_1*100.))"
   ]
  },
  {
   "cell_type": "code",
   "execution_count": null,
   "metadata": {
    "scrolled": true
   },
   "outputs": [],
   "source": [
    "test_loss_2,test_accuracy_2 = model_2.evaluate(test_inputs,test_targets, verbose=2)\n",
    "print('Model 2. Test loss: {0:.2f}. Test accuracy: {1:.2f}%'.format(test_loss_2,test_accuracy_2*100.))"
   ]
  },
  {
   "cell_type": "code",
   "execution_count": null,
   "metadata": {
    "scrolled": true
   },
   "outputs": [],
   "source": [
    "test_loss_3,test_accuracy_3 = model_3.evaluate(test_inputs,test_targets, verbose=2)\n",
    "print('Model 3. Test loss: {0:.2f}. Test accuracy: {1:.2f}%'.format(test_loss_3,test_accuracy_3*100.))"
   ]
  }
 ],
 "metadata": {
  "kernelspec": {
   "display_name": "Python 3",
   "language": "python",
   "name": "python3"
  },
  "language_info": {
   "codemirror_mode": {
    "name": "ipython",
    "version": 3
   },
   "file_extension": ".py",
   "mimetype": "text/x-python",
   "name": "python",
   "nbconvert_exporter": "python",
   "pygments_lexer": "ipython3",
   "version": "3.7.6"
  }
 },
 "nbformat": 4,
 "nbformat_minor": 4
}
