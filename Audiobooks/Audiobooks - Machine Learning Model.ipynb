{
 "cells": [
  {
   "cell_type": "markdown",
   "metadata": {},
   "source": [
    "## Audiobooks - Machine Learning Model"
   ]
  },
  {
   "cell_type": "markdown",
   "metadata": {},
   "source": [
    "### 1. Load libraries and data "
   ]
  },
  {
   "cell_type": "code",
   "execution_count": 1,
   "metadata": {},
   "outputs": [],
   "source": [
    "# import libraries\n",
    "import numpy as np\n",
    "import tensorflow as tf\n",
    "\n",
    "#load train data\n",
    "npz = np.load('Audiobooks_data_train.npz')\n",
    "train_inputs = npz['inputs'].astype(np.float)\n",
    "train_targets = npz['targets'].astype(np.int)\n",
    "\n",
    "#load validation data\n",
    "npz = np.load('Audiobooks_data_validation.npz')\n",
    "validation_inputs, validation_targets = npz['inputs'].astype(np.float), npz['targets'].astype(np.int)\n",
    "\n",
    "#load test data\n",
    "npz = np.load('Audiobooks_data_test.npz')\n",
    "test_inputs, test_targets = npz['inputs'].astype(np.float), npz['targets'].astype(np.int)"
   ]
  },
  {
   "cell_type": "markdown",
   "metadata": {},
   "source": [
    "### 2. First Model"
   ]
  },
  {
   "cell_type": "markdown",
   "metadata": {},
   "source": [
    "Outline, optimizers, loss"
   ]
  },
  {
   "cell_type": "code",
   "execution_count": 2,
   "metadata": {},
   "outputs": [
    {
     "name": "stdout",
     "output_type": "stream",
     "text": [
      "Train on 3579 samples, validate on 447 samples\n",
      "Epoch 1/100\n",
      "3579/3579 - 1s - loss: 0.5424 - accuracy: 0.7611 - val_loss: 0.4210 - val_accuracy: 0.8568\n",
      "Epoch 2/100\n",
      "3579/3579 - 0s - loss: 0.3591 - accuracy: 0.8776 - val_loss: 0.3456 - val_accuracy: 0.8725\n",
      "Epoch 3/100\n",
      "3579/3579 - 0s - loss: 0.3109 - accuracy: 0.8857 - val_loss: 0.3213 - val_accuracy: 0.8814\n",
      "Epoch 4/100\n",
      "3579/3579 - 0s - loss: 0.2934 - accuracy: 0.8913 - val_loss: 0.3032 - val_accuracy: 0.8814\n",
      "Epoch 5/100\n",
      "3579/3579 - 0s - loss: 0.2813 - accuracy: 0.8952 - val_loss: 0.2924 - val_accuracy: 0.8926\n",
      "Epoch 6/100\n",
      "3579/3579 - 0s - loss: 0.2720 - accuracy: 0.8997 - val_loss: 0.2874 - val_accuracy: 0.8926\n",
      "Epoch 7/100\n",
      "3579/3579 - 0s - loss: 0.2652 - accuracy: 0.9005 - val_loss: 0.2806 - val_accuracy: 0.8926\n",
      "Epoch 8/100\n",
      "3579/3579 - 0s - loss: 0.2593 - accuracy: 0.9025 - val_loss: 0.2700 - val_accuracy: 0.9016\n",
      "Epoch 9/100\n",
      "3579/3579 - 0s - loss: 0.2550 - accuracy: 0.9058 - val_loss: 0.2783 - val_accuracy: 0.9016\n",
      "Epoch 10/100\n",
      "3579/3579 - 0s - loss: 0.2524 - accuracy: 0.9058 - val_loss: 0.2627 - val_accuracy: 0.9038\n",
      "Epoch 11/100\n",
      "3579/3579 - 0s - loss: 0.2480 - accuracy: 0.9075 - val_loss: 0.2582 - val_accuracy: 0.9038\n",
      "Epoch 12/100\n",
      "3579/3579 - 0s - loss: 0.2470 - accuracy: 0.9084 - val_loss: 0.2577 - val_accuracy: 0.9038\n",
      "Epoch 13/100\n",
      "3579/3579 - 0s - loss: 0.2428 - accuracy: 0.9098 - val_loss: 0.2554 - val_accuracy: 0.9016\n",
      "Epoch 14/100\n",
      "3579/3579 - 0s - loss: 0.2420 - accuracy: 0.9103 - val_loss: 0.2522 - val_accuracy: 0.9016\n",
      "Epoch 15/100\n",
      "3579/3579 - 0s - loss: 0.2385 - accuracy: 0.9109 - val_loss: 0.2537 - val_accuracy: 0.9060\n",
      "Epoch 16/100\n",
      "3579/3579 - 0s - loss: 0.2393 - accuracy: 0.9123 - val_loss: 0.2471 - val_accuracy: 0.9016\n",
      "Epoch 17/100\n",
      "3579/3579 - 0s - loss: 0.2357 - accuracy: 0.9123 - val_loss: 0.2499 - val_accuracy: 0.9016\n",
      "Epoch 18/100\n",
      "3579/3579 - 0s - loss: 0.2332 - accuracy: 0.9134 - val_loss: 0.2508 - val_accuracy: 0.9016\n",
      "Epoch 19/100\n",
      "3579/3579 - 0s - loss: 0.2344 - accuracy: 0.9128 - val_loss: 0.2463 - val_accuracy: 0.9016\n",
      "Epoch 20/100\n",
      "3579/3579 - 0s - loss: 0.2307 - accuracy: 0.9151 - val_loss: 0.2460 - val_accuracy: 0.9060\n",
      "Epoch 21/100\n",
      "3579/3579 - 0s - loss: 0.2291 - accuracy: 0.9156 - val_loss: 0.2522 - val_accuracy: 0.9038\n",
      "Epoch 22/100\n",
      "3579/3579 - 0s - loss: 0.2312 - accuracy: 0.9167 - val_loss: 0.2529 - val_accuracy: 0.9016\n",
      "Epoch 23/100\n",
      "3579/3579 - 0s - loss: 0.2317 - accuracy: 0.9145 - val_loss: 0.2464 - val_accuracy: 0.9038\n",
      "Epoch 24/100\n",
      "3579/3579 - 0s - loss: 0.2270 - accuracy: 0.9159 - val_loss: 0.2581 - val_accuracy: 0.9060\n",
      "Epoch 25/100\n",
      "3579/3579 - 0s - loss: 0.2314 - accuracy: 0.9159 - val_loss: 0.2433 - val_accuracy: 0.9060\n",
      "Epoch 26/100\n",
      "3579/3579 - 0s - loss: 0.2266 - accuracy: 0.9181 - val_loss: 0.2489 - val_accuracy: 0.9060\n",
      "Epoch 27/100\n",
      "3579/3579 - 0s - loss: 0.2245 - accuracy: 0.9170 - val_loss: 0.2440 - val_accuracy: 0.9083\n",
      "Epoch 28/100\n",
      "3579/3579 - 0s - loss: 0.2242 - accuracy: 0.9173 - val_loss: 0.2529 - val_accuracy: 0.9060\n",
      "Epoch 29/100\n",
      "3579/3579 - 0s - loss: 0.2248 - accuracy: 0.9170 - val_loss: 0.2505 - val_accuracy: 0.9060\n",
      "Epoch 30/100\n",
      "3579/3579 - 0s - loss: 0.2228 - accuracy: 0.9184 - val_loss: 0.2440 - val_accuracy: 0.9060\n",
      "Epoch 31/100\n",
      "3579/3579 - 0s - loss: 0.2241 - accuracy: 0.9179 - val_loss: 0.2549 - val_accuracy: 0.9060\n",
      "Epoch 32/100\n",
      "3579/3579 - 0s - loss: 0.2234 - accuracy: 0.9167 - val_loss: 0.2466 - val_accuracy: 0.9083\n",
      "Epoch 33/100\n",
      "3579/3579 - 0s - loss: 0.2212 - accuracy: 0.9193 - val_loss: 0.2448 - val_accuracy: 0.9083\n",
      "Epoch 34/100\n",
      "3579/3579 - 0s - loss: 0.2192 - accuracy: 0.9173 - val_loss: 0.2478 - val_accuracy: 0.9083\n",
      "Epoch 35/100\n",
      "3579/3579 - 0s - loss: 0.2215 - accuracy: 0.9176 - val_loss: 0.2567 - val_accuracy: 0.9105\n",
      "Epoch 36/100\n",
      "3579/3579 - 0s - loss: 0.2212 - accuracy: 0.9184 - val_loss: 0.2498 - val_accuracy: 0.9060\n",
      "Epoch 37/100\n",
      "3579/3579 - 0s - loss: 0.2214 - accuracy: 0.9187 - val_loss: 0.2506 - val_accuracy: 0.9083\n",
      "Epoch 38/100\n",
      "3579/3579 - 0s - loss: 0.2172 - accuracy: 0.9179 - val_loss: 0.2493 - val_accuracy: 0.9060\n",
      "Epoch 39/100\n",
      "3579/3579 - 0s - loss: 0.2173 - accuracy: 0.9195 - val_loss: 0.2433 - val_accuracy: 0.9060\n",
      "Epoch 40/100\n",
      "3579/3579 - 0s - loss: 0.2211 - accuracy: 0.9201 - val_loss: 0.2489 - val_accuracy: 0.9060\n",
      "Epoch 41/100\n",
      "3579/3579 - 0s - loss: 0.2175 - accuracy: 0.9187 - val_loss: 0.2461 - val_accuracy: 0.9016\n",
      "Epoch 42/100\n",
      "3579/3579 - 0s - loss: 0.2193 - accuracy: 0.9181 - val_loss: 0.2605 - val_accuracy: 0.9060\n",
      "Epoch 43/100\n",
      "3579/3579 - 0s - loss: 0.2205 - accuracy: 0.9201 - val_loss: 0.2568 - val_accuracy: 0.9060\n",
      "Epoch 44/100\n",
      "3579/3579 - 0s - loss: 0.2171 - accuracy: 0.9206 - val_loss: 0.2445 - val_accuracy: 0.9060\n",
      "Epoch 45/100\n",
      "3579/3579 - 0s - loss: 0.2159 - accuracy: 0.9195 - val_loss: 0.2454 - val_accuracy: 0.9060\n",
      "Epoch 46/100\n",
      "3579/3579 - 0s - loss: 0.2151 - accuracy: 0.9187 - val_loss: 0.2422 - val_accuracy: 0.9038\n",
      "Epoch 47/100\n",
      "3579/3579 - 0s - loss: 0.2149 - accuracy: 0.9193 - val_loss: 0.2431 - val_accuracy: 0.9083\n",
      "Epoch 48/100\n",
      "3579/3579 - 0s - loss: 0.2144 - accuracy: 0.9190 - val_loss: 0.2411 - val_accuracy: 0.9060\n",
      "Epoch 49/100\n",
      "3579/3579 - 0s - loss: 0.2135 - accuracy: 0.9204 - val_loss: 0.2524 - val_accuracy: 0.9060\n",
      "Epoch 50/100\n",
      "3579/3579 - 0s - loss: 0.2130 - accuracy: 0.9209 - val_loss: 0.2465 - val_accuracy: 0.9060\n",
      "Epoch 51/100\n",
      "3579/3579 - 0s - loss: 0.2139 - accuracy: 0.9206 - val_loss: 0.2445 - val_accuracy: 0.9038\n",
      "Epoch 52/100\n",
      "3579/3579 - 0s - loss: 0.2140 - accuracy: 0.9220 - val_loss: 0.2477 - val_accuracy: 0.9060\n",
      "Epoch 53/100\n",
      "3579/3579 - 0s - loss: 0.2140 - accuracy: 0.9209 - val_loss: 0.2403 - val_accuracy: 0.8993\n",
      "Epoch 54/100\n",
      "3579/3579 - 0s - loss: 0.2129 - accuracy: 0.9209 - val_loss: 0.2483 - val_accuracy: 0.9060\n",
      "Epoch 55/100\n",
      "3579/3579 - 0s - loss: 0.2130 - accuracy: 0.9212 - val_loss: 0.2445 - val_accuracy: 0.9016\n",
      "Epoch 56/100\n",
      "3579/3579 - 0s - loss: 0.2134 - accuracy: 0.9209 - val_loss: 0.2628 - val_accuracy: 0.9060\n",
      "Epoch 57/100\n",
      "3579/3579 - 0s - loss: 0.2124 - accuracy: 0.9195 - val_loss: 0.2455 - val_accuracy: 0.9060\n",
      "Epoch 58/100\n",
      "3579/3579 - 0s - loss: 0.2130 - accuracy: 0.9209 - val_loss: 0.2576 - val_accuracy: 0.9060\n",
      "Epoch 59/100\n",
      "3579/3579 - 0s - loss: 0.2115 - accuracy: 0.9220 - val_loss: 0.2464 - val_accuracy: 0.8971\n",
      "Epoch 60/100\n",
      "3579/3579 - 0s - loss: 0.2169 - accuracy: 0.9198 - val_loss: 0.2680 - val_accuracy: 0.9038\n",
      "Epoch 61/100\n",
      "3579/3579 - 0s - loss: 0.2144 - accuracy: 0.9226 - val_loss: 0.2498 - val_accuracy: 0.9038\n",
      "Epoch 62/100\n",
      "3579/3579 - 0s - loss: 0.2120 - accuracy: 0.9209 - val_loss: 0.2506 - val_accuracy: 0.9038\n",
      "Epoch 63/100\n",
      "3579/3579 - 0s - loss: 0.2110 - accuracy: 0.9215 - val_loss: 0.2560 - val_accuracy: 0.8993\n",
      "Epoch 64/100\n",
      "3579/3579 - 0s - loss: 0.2139 - accuracy: 0.9212 - val_loss: 0.2564 - val_accuracy: 0.9038\n",
      "Epoch 65/100\n",
      "3579/3579 - 0s - loss: 0.2099 - accuracy: 0.9229 - val_loss: 0.2455 - val_accuracy: 0.9038\n",
      "Epoch 66/100\n",
      "3579/3579 - 0s - loss: 0.2102 - accuracy: 0.9220 - val_loss: 0.2508 - val_accuracy: 0.9038\n",
      "Epoch 67/100\n",
      "3579/3579 - 0s - loss: 0.2088 - accuracy: 0.9229 - val_loss: 0.2555 - val_accuracy: 0.9038\n",
      "Epoch 68/100\n",
      "3579/3579 - 0s - loss: 0.2099 - accuracy: 0.9223 - val_loss: 0.2498 - val_accuracy: 0.9038\n",
      "Epoch 69/100\n",
      "3579/3579 - 0s - loss: 0.2072 - accuracy: 0.9226 - val_loss: 0.2479 - val_accuracy: 0.9060\n",
      "Epoch 70/100\n",
      "3579/3579 - 0s - loss: 0.2084 - accuracy: 0.9223 - val_loss: 0.2493 - val_accuracy: 0.9060\n",
      "Epoch 71/100\n",
      "3579/3579 - 0s - loss: 0.2100 - accuracy: 0.9215 - val_loss: 0.2531 - val_accuracy: 0.9038\n",
      "Epoch 72/100\n",
      "3579/3579 - 0s - loss: 0.2101 - accuracy: 0.9234 - val_loss: 0.2503 - val_accuracy: 0.9060\n",
      "Epoch 73/100\n",
      "3579/3579 - 0s - loss: 0.2079 - accuracy: 0.9220 - val_loss: 0.2525 - val_accuracy: 0.9016\n",
      "Epoch 74/100\n",
      "3579/3579 - 0s - loss: 0.2082 - accuracy: 0.9220 - val_loss: 0.2514 - val_accuracy: 0.9060\n",
      "Epoch 75/100\n",
      "3579/3579 - 0s - loss: 0.2120 - accuracy: 0.9204 - val_loss: 0.2506 - val_accuracy: 0.9016\n",
      "Epoch 76/100\n",
      "3579/3579 - 0s - loss: 0.2103 - accuracy: 0.9218 - val_loss: 0.2561 - val_accuracy: 0.8993\n",
      "Epoch 77/100\n",
      "3579/3579 - 0s - loss: 0.2104 - accuracy: 0.9209 - val_loss: 0.2505 - val_accuracy: 0.9060\n",
      "Epoch 78/100\n",
      "3579/3579 - 0s - loss: 0.2116 - accuracy: 0.9209 - val_loss: 0.2530 - val_accuracy: 0.9105\n",
      "Epoch 79/100\n",
      "3579/3579 - 0s - loss: 0.2076 - accuracy: 0.9226 - val_loss: 0.2552 - val_accuracy: 0.9016\n"
     ]
    },
    {
     "name": "stdout",
     "output_type": "stream",
     "text": [
      "Epoch 80/100\n",
      "3579/3579 - 0s - loss: 0.2087 - accuracy: 0.9223 - val_loss: 0.2506 - val_accuracy: 0.9060\n",
      "Epoch 81/100\n",
      "3579/3579 - 0s - loss: 0.2085 - accuracy: 0.9232 - val_loss: 0.2794 - val_accuracy: 0.8949\n",
      "Epoch 82/100\n",
      "3579/3579 - 0s - loss: 0.2121 - accuracy: 0.9223 - val_loss: 0.2520 - val_accuracy: 0.9016\n",
      "Epoch 83/100\n",
      "3579/3579 - 0s - loss: 0.2122 - accuracy: 0.9195 - val_loss: 0.2499 - val_accuracy: 0.9016\n",
      "Epoch 84/100\n",
      "3579/3579 - 0s - loss: 0.2070 - accuracy: 0.9223 - val_loss: 0.2460 - val_accuracy: 0.8993\n",
      "Epoch 85/100\n",
      "3579/3579 - 0s - loss: 0.2081 - accuracy: 0.9218 - val_loss: 0.2531 - val_accuracy: 0.9038\n",
      "Epoch 86/100\n",
      "3579/3579 - 0s - loss: 0.2064 - accuracy: 0.9234 - val_loss: 0.2504 - val_accuracy: 0.9038\n",
      "Epoch 87/100\n",
      "3579/3579 - 0s - loss: 0.2089 - accuracy: 0.9193 - val_loss: 0.2498 - val_accuracy: 0.9060\n",
      "Epoch 88/100\n",
      "3579/3579 - 0s - loss: 0.2059 - accuracy: 0.9237 - val_loss: 0.2575 - val_accuracy: 0.9016\n",
      "Epoch 89/100\n",
      "3579/3579 - 0s - loss: 0.2099 - accuracy: 0.9223 - val_loss: 0.2573 - val_accuracy: 0.9016\n",
      "Epoch 90/100\n",
      "3579/3579 - 0s - loss: 0.2048 - accuracy: 0.9220 - val_loss: 0.2607 - val_accuracy: 0.9038\n",
      "Epoch 91/100\n",
      "3579/3579 - 0s - loss: 0.2050 - accuracy: 0.9220 - val_loss: 0.2619 - val_accuracy: 0.9016\n",
      "Epoch 92/100\n",
      "3579/3579 - 0s - loss: 0.2055 - accuracy: 0.9246 - val_loss: 0.2544 - val_accuracy: 0.9038\n",
      "Epoch 93/100\n",
      "3579/3579 - 0s - loss: 0.2063 - accuracy: 0.9226 - val_loss: 0.2524 - val_accuracy: 0.8993\n",
      "Epoch 94/100\n",
      "3579/3579 - 0s - loss: 0.2057 - accuracy: 0.9243 - val_loss: 0.2522 - val_accuracy: 0.9016\n",
      "Epoch 95/100\n",
      "3579/3579 - 0s - loss: 0.2055 - accuracy: 0.9232 - val_loss: 0.2535 - val_accuracy: 0.9016\n",
      "Epoch 96/100\n",
      "3579/3579 - 0s - loss: 0.2041 - accuracy: 0.9240 - val_loss: 0.2609 - val_accuracy: 0.9060\n",
      "Epoch 97/100\n",
      "3579/3579 - 0s - loss: 0.2045 - accuracy: 0.9248 - val_loss: 0.2539 - val_accuracy: 0.8993\n",
      "Epoch 98/100\n",
      "3579/3579 - 0s - loss: 0.2103 - accuracy: 0.9201 - val_loss: 0.2480 - val_accuracy: 0.9016\n",
      "Epoch 99/100\n",
      "3579/3579 - 0s - loss: 0.2055 - accuracy: 0.9229 - val_loss: 0.2532 - val_accuracy: 0.9016\n",
      "Epoch 100/100\n",
      "3579/3579 - 0s - loss: 0.2053 - accuracy: 0.9220 - val_loss: 0.2505 - val_accuracy: 0.8971\n"
     ]
    },
    {
     "data": {
      "text/plain": [
       "<tensorflow.python.keras.callbacks.History at 0x1cde0d5c608>"
      ]
     },
     "execution_count": 2,
     "metadata": {},
     "output_type": "execute_result"
    }
   ],
   "source": [
    "input_size = 10\n",
    "output_size = 2\n",
    "hidden_layer_size = 50\n",
    "\n",
    "model_1 = tf.keras.Sequential([\n",
    "                            tf.keras.layers.Dense(hidden_layer_size, activation='relu'),\n",
    "                            tf.keras.layers.Dense(hidden_layer_size, activation='relu'),\n",
    "                            tf.keras.layers.Dense(output_size, activation='softmax')\n",
    "                            ])\n",
    "\n",
    "model_1.compile(optimizer='Adam',loss='sparse_categorical_crossentropy', metrics=['accuracy'])\n",
    "\n",
    "batch_size = 100\n",
    "\n",
    "max_epochs = 100\n",
    "\n",
    "model_1.fit(train_inputs,\n",
    "           train_targets,\n",
    "           batch_size = batch_size,\n",
    "           epochs = max_epochs,\n",
    "           validation_data = (validation_inputs, validation_targets),\n",
    "           verbose = 2)"
   ]
  },
  {
   "cell_type": "markdown",
   "metadata": {},
   "source": [
    "Notice how the training loss keeps decreasing, while the validation loss fluctuates. This model overfits. "
   ]
  },
  {
   "cell_type": "markdown",
   "metadata": {},
   "source": [
    "### 3. Second Model with early stopping"
   ]
  },
  {
   "cell_type": "markdown",
   "metadata": {},
   "source": [
    "Outline, optimizers, loss, early stopping and training"
   ]
  },
  {
   "cell_type": "code",
   "execution_count": 3,
   "metadata": {
    "scrolled": true
   },
   "outputs": [
    {
     "name": "stdout",
     "output_type": "stream",
     "text": [
      "Train on 3579 samples, validate on 447 samples\n",
      "Epoch 1/100\n",
      "3579/3579 - 1s - loss: 0.6226 - accuracy: 0.6943 - val_loss: 0.4703 - val_accuracy: 0.8434\n",
      "Epoch 2/100\n",
      "3579/3579 - 0s - loss: 0.3932 - accuracy: 0.8690 - val_loss: 0.3561 - val_accuracy: 0.8658\n",
      "Epoch 3/100\n",
      "3579/3579 - 0s - loss: 0.3282 - accuracy: 0.8801 - val_loss: 0.3245 - val_accuracy: 0.8725\n",
      "Epoch 4/100\n",
      "3579/3579 - 0s - loss: 0.3032 - accuracy: 0.8888 - val_loss: 0.3037 - val_accuracy: 0.8837\n",
      "Epoch 5/100\n",
      "3579/3579 - 0s - loss: 0.2876 - accuracy: 0.8941 - val_loss: 0.2972 - val_accuracy: 0.8859\n",
      "Epoch 6/100\n",
      "3579/3579 - 0s - loss: 0.2785 - accuracy: 0.8947 - val_loss: 0.2789 - val_accuracy: 0.8926\n",
      "Epoch 7/100\n",
      "3579/3579 - 0s - loss: 0.2708 - accuracy: 0.8975 - val_loss: 0.2742 - val_accuracy: 0.8904\n",
      "Epoch 8/100\n",
      "3579/3579 - 0s - loss: 0.2665 - accuracy: 0.8994 - val_loss: 0.2741 - val_accuracy: 0.8949\n",
      "Epoch 9/100\n",
      "3579/3579 - 0s - loss: 0.2604 - accuracy: 0.9005 - val_loss: 0.2742 - val_accuracy: 0.8971\n",
      "Epoch 10/100\n",
      "3579/3579 - 0s - loss: 0.2555 - accuracy: 0.9042 - val_loss: 0.2637 - val_accuracy: 0.8949\n",
      "Epoch 11/100\n",
      "3579/3579 - 0s - loss: 0.2527 - accuracy: 0.9061 - val_loss: 0.2641 - val_accuracy: 0.8971\n",
      "Epoch 12/100\n",
      "3579/3579 - 0s - loss: 0.2493 - accuracy: 0.9061 - val_loss: 0.2629 - val_accuracy: 0.8949\n",
      "Epoch 13/100\n",
      "3579/3579 - 0s - loss: 0.2467 - accuracy: 0.9061 - val_loss: 0.2587 - val_accuracy: 0.8993\n",
      "Epoch 14/100\n",
      "3579/3579 - 0s - loss: 0.2442 - accuracy: 0.9081 - val_loss: 0.2581 - val_accuracy: 0.8971\n",
      "Epoch 15/100\n",
      "3579/3579 - 0s - loss: 0.2421 - accuracy: 0.9098 - val_loss: 0.2562 - val_accuracy: 0.8971\n",
      "Epoch 16/100\n",
      "3579/3579 - 0s - loss: 0.2413 - accuracy: 0.9109 - val_loss: 0.2557 - val_accuracy: 0.9016\n",
      "Epoch 17/100\n",
      "3579/3579 - 0s - loss: 0.2380 - accuracy: 0.9128 - val_loss: 0.2667 - val_accuracy: 0.8993\n",
      "Epoch 18/100\n",
      "3579/3579 - 0s - loss: 0.2385 - accuracy: 0.9139 - val_loss: 0.2518 - val_accuracy: 0.8993\n",
      "Epoch 19/100\n",
      "3579/3579 - 0s - loss: 0.2374 - accuracy: 0.9109 - val_loss: 0.2524 - val_accuracy: 0.8993\n",
      "Epoch 20/100\n",
      "3579/3579 - 0s - loss: 0.2330 - accuracy: 0.9134 - val_loss: 0.2516 - val_accuracy: 0.8993\n",
      "Epoch 21/100\n",
      "3579/3579 - 0s - loss: 0.2332 - accuracy: 0.9137 - val_loss: 0.2537 - val_accuracy: 0.9016\n",
      "Epoch 22/100\n",
      "3579/3579 - 0s - loss: 0.2316 - accuracy: 0.9148 - val_loss: 0.2570 - val_accuracy: 0.9038\n"
     ]
    },
    {
     "data": {
      "text/plain": [
       "<tensorflow.python.keras.callbacks.History at 0x1cde252d808>"
      ]
     },
     "execution_count": 3,
     "metadata": {},
     "output_type": "execute_result"
    }
   ],
   "source": [
    "input_size = 10\n",
    "output_size = 2\n",
    "hidden_layer_size = 50\n",
    "\n",
    "model_2 = tf.keras.Sequential([\n",
    "                            tf.keras.layers.Dense(hidden_layer_size, activation='relu'),\n",
    "                            tf.keras.layers.Dense(hidden_layer_size, activation='relu'),\n",
    "                            tf.keras.layers.Dense(output_size, activation='softmax')\n",
    "                            ])\n",
    "\n",
    "model_2.compile(optimizer='Adam',loss='sparse_categorical_crossentropy', metrics=['accuracy'])\n",
    "\n",
    "batch_size = 100\n",
    "\n",
    "max_epochs = 100\n",
    "\n",
    "early_stopping = tf.keras.callbacks.EarlyStopping(patience=2)\n",
    "\n",
    "model_2.fit(train_inputs,\n",
    "           train_targets,\n",
    "           batch_size = batch_size,\n",
    "           epochs = max_epochs,\n",
    "           callbacks = [early_stopping],\n",
    "           validation_data = (validation_inputs, validation_targets),\n",
    "           verbose = 2)"
   ]
  },
  {
   "cell_type": "markdown",
   "metadata": {},
   "source": [
    "### 3. Third Model"
   ]
  },
  {
   "cell_type": "markdown",
   "metadata": {},
   "source": [
    "Outline, optimizers, loss, early stopping and training"
   ]
  },
  {
   "cell_type": "code",
   "execution_count": 4,
   "metadata": {
    "scrolled": true
   },
   "outputs": [
    {
     "name": "stdout",
     "output_type": "stream",
     "text": [
      "Train on 3579 samples, validate on 447 samples\n",
      "Epoch 1/100\n",
      "3579/3579 - 1s - loss: 0.3596 - accuracy: 0.8678 - val_loss: 0.2920 - val_accuracy: 0.8904\n",
      "Epoch 2/100\n",
      "3579/3579 - 0s - loss: 0.2767 - accuracy: 0.8975 - val_loss: 0.2727 - val_accuracy: 0.8926\n",
      "Epoch 3/100\n",
      "3579/3579 - 0s - loss: 0.2597 - accuracy: 0.9030 - val_loss: 0.2550 - val_accuracy: 0.9038\n",
      "Epoch 4/100\n",
      "3579/3579 - 0s - loss: 0.2519 - accuracy: 0.9067 - val_loss: 0.2543 - val_accuracy: 0.9016\n",
      "Epoch 5/100\n",
      "3579/3579 - 0s - loss: 0.2470 - accuracy: 0.9070 - val_loss: 0.2439 - val_accuracy: 0.8993\n",
      "Epoch 6/100\n",
      "3579/3579 - 0s - loss: 0.2428 - accuracy: 0.9128 - val_loss: 0.2492 - val_accuracy: 0.8971\n",
      "Epoch 7/100\n",
      "3579/3579 - 0s - loss: 0.2372 - accuracy: 0.9120 - val_loss: 0.2791 - val_accuracy: 0.9016\n"
     ]
    },
    {
     "data": {
      "text/plain": [
       "<tensorflow.python.keras.callbacks.History at 0x1cddfe1dc48>"
      ]
     },
     "execution_count": 4,
     "metadata": {},
     "output_type": "execute_result"
    }
   ],
   "source": [
    "input_size = 10\n",
    "output_size = 2\n",
    "hidden_layer_size = 200\n",
    "\n",
    "model_3 = tf.keras.Sequential([\n",
    "                            tf.keras.layers.Dense(hidden_layer_size, activation='relu'),\n",
    "                            tf.keras.layers.Dense(hidden_layer_size, activation='relu'),\n",
    "                            tf.keras.layers.Dense(output_size, activation='softmax')\n",
    "                            ])\n",
    "\n",
    "model_3.compile(optimizer='Adam',loss='sparse_categorical_crossentropy', metrics=['accuracy'])\n",
    "\n",
    "batch_size = 50\n",
    "\n",
    "max_epochs = 100\n",
    "\n",
    "early_stopping = tf.keras.callbacks.EarlyStopping(patience=2)\n",
    "\n",
    "model_3.fit(train_inputs,\n",
    "           train_targets,\n",
    "           batch_size = batch_size,\n",
    "           epochs = max_epochs,\n",
    "           callbacks = [early_stopping],\n",
    "           validation_data = (validation_inputs, validation_targets),\n",
    "           verbose = 2)"
   ]
  },
  {
   "cell_type": "markdown",
   "metadata": {},
   "source": [
    "### 5. Test the model"
   ]
  },
  {
   "cell_type": "code",
   "execution_count": 5,
   "metadata": {
    "scrolled": true
   },
   "outputs": [
    {
     "name": "stdout",
     "output_type": "stream",
     "text": [
      "448/1 - 0s - loss: 0.2281 - accuracy: 0.9152\n",
      "Model 1. Test loss: 0.23. Test accuracy: 91.52%\n"
     ]
    }
   ],
   "source": [
    "test_loss_1,test_accuracy_1 = model_1.evaluate(test_inputs,test_targets,verbose=2)\n",
    "print('Model 1. Test loss: {0:.2f}. Test accuracy: {1:.2f}%'.format(test_loss_1,test_accuracy_1*100.))"
   ]
  },
  {
   "cell_type": "code",
   "execution_count": 6,
   "metadata": {
    "scrolled": true
   },
   "outputs": [
    {
     "name": "stdout",
     "output_type": "stream",
     "text": [
      "448/1 - 0s - loss: 0.2552 - accuracy: 0.9040\n",
      "Model 2. Test loss: 0.25. Test accuracy: 90.40%\n"
     ]
    }
   ],
   "source": [
    "test_loss_2,test_accuracy_2 = model_2.evaluate(test_inputs,test_targets, verbose=2)\n",
    "print('Model 2. Test loss: {0:.2f}. Test accuracy: {1:.2f}%'.format(test_loss_2,test_accuracy_2*100.))"
   ]
  },
  {
   "cell_type": "code",
   "execution_count": 7,
   "metadata": {
    "scrolled": true
   },
   "outputs": [
    {
     "name": "stdout",
     "output_type": "stream",
     "text": [
      "448/1 - 0s - loss: 0.2531 - accuracy: 0.9040\n",
      "Model 3. Test loss: 0.26. Test accuracy: 90.40%\n"
     ]
    }
   ],
   "source": [
    "test_loss_3,test_accuracy_3 = model_3.evaluate(test_inputs,test_targets, verbose=2)\n",
    "print('Model 3. Test loss: {0:.2f}. Test accuracy: {1:.2f}%'.format(test_loss_3,test_accuracy_3*100.))"
   ]
  }
 ],
 "metadata": {
  "kernelspec": {
   "display_name": "Python 3",
   "language": "python",
   "name": "python3"
  },
  "language_info": {
   "codemirror_mode": {
    "name": "ipython",
    "version": 3
   },
   "file_extension": ".py",
   "mimetype": "text/x-python",
   "name": "python",
   "nbconvert_exporter": "python",
   "pygments_lexer": "ipython3",
   "version": "3.7.6"
  }
 },
 "nbformat": 4,
 "nbformat_minor": 4
}
