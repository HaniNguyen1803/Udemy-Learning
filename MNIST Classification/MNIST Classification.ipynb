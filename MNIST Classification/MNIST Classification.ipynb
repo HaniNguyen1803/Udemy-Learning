{
 "cells": [
  {
   "cell_type": "markdown",
   "metadata": {},
   "source": [
    "## Deep Neural Network for MNIST Classification"
   ]
  },
  {
   "cell_type": "markdown",
   "metadata": {},
   "source": [
    "### Import packages "
   ]
  },
  {
   "cell_type": "code",
   "execution_count": 1,
   "metadata": {},
   "outputs": [],
   "source": [
    "import numpy as np\n",
    "import tensorflow as tf\n",
    "\n",
    "import tensorflow_datasets as tfds"
   ]
  },
  {
   "cell_type": "markdown",
   "metadata": {},
   "source": [
    "### Data"
   ]
  },
  {
   "cell_type": "code",
   "execution_count": 2,
   "metadata": {},
   "outputs": [],
   "source": [
    "#load dataset in a 2 tuple structure input and target\n",
    "mnist_dts, mnist_info = tfds.load(name = 'mnist', with_info = True, as_supervised = True)"
   ]
  },
  {
   "cell_type": "code",
   "execution_count": 3,
   "metadata": {},
   "outputs": [],
   "source": [
    "mnist_train,mnist_test = mnist_dts['train'], mnist_dts['test']\n",
    "\n",
    "#split 1/10 training dataset to validation dataset\n",
    "num_val_samples = 0.1* mnist_info.splits['train'].num_examples\n",
    "\n",
    "#convert num_val_samples into int64 type (integer)\n",
    "num_val_samples = tf.cast(num_val_samples,tf.int64)\n",
    "\n",
    "#get test samples\n",
    "num_test_samples = mnist_info.splits['test'].num_examples\n",
    "num_test_samples = tf.cast(num_test_samples,tf.int64)"
   ]
  },
  {
   "cell_type": "code",
   "execution_count": 4,
   "metadata": {},
   "outputs": [],
   "source": [
    "#scale inputs \n",
    "def scale(image, label):\n",
    "    image = tf.cast(image,tf.float32)\n",
    "    image /= 255. #the '.' makes sure that this is a float\n",
    "    return image, label\n",
    "\n",
    "train_val_scaled = mnist_train.map(scale)\n",
    "test_data = mnist_test.map(scale)"
   ]
  },
  {
   "cell_type": "code",
   "execution_count": 5,
   "metadata": {},
   "outputs": [],
   "source": [
    "#shuffle data\n",
    "BUFFER_SIZE = 10000 # use when deal when enourmous datasets: shuffle 10000 at a time\n",
    "\n",
    "train_val_shuffled = train_val_scaled.shuffle(BUFFER_SIZE)\n",
    "\n",
    "val_data = train_val_shuffled.take(num_val_samples)\n",
    "train_data = train_val_shuffled.skip(num_val_samples)"
   ]
  },
  {
   "cell_type": "code",
   "execution_count": 6,
   "metadata": {},
   "outputs": [],
   "source": [
    "# combine consecutive elements of a dataset into batches, how many samples Tensorflow should take in each batch\n",
    "BATCH_SIZE = 100\n",
    "\n",
    "train_data = train_data.batch(BATCH_SIZE)\n",
    "val_data = val_data.batch(num_val_samples)\n",
    "test_data = test_data.batch(num_test_samples)"
   ]
  },
  {
   "cell_type": "code",
   "execution_count": 7,
   "metadata": {},
   "outputs": [],
   "source": [
    "# extract and convert the validation inputs and targets \n",
    "#iter(): create an object which can be iterated one element at a time\n",
    "#next(): load the next element of an iterable object (next batch)\n",
    "val_inputs, val_targets = next(iter(val_data))"
   ]
  },
  {
   "cell_type": "markdown",
   "metadata": {},
   "source": [
    "### Model 1"
   ]
  },
  {
   "cell_type": "markdown",
   "metadata": {},
   "source": [
    "#### Outline the model"
   ]
  },
  {
   "cell_type": "code",
   "execution_count": 8,
   "metadata": {},
   "outputs": [],
   "source": [
    "input_size = 784\n",
    "output_size = 10\n",
    "hidden_layer_size = 100\n",
    "\n",
    "model_1 = tf.keras.Sequential([\n",
    "                            tf.keras.layers.Flatten(input_shape = (28,28,1)),\n",
    "                            tf.keras.layers.Dense(hidden_layer_size, activation='relu'),\n",
    "                            tf.keras.layers.Dense(hidden_layer_size, activation='relu'),\n",
    "                            tf.keras.layers.Dense(output_size, activation='softmax'),\n",
    "])\n",
    "# tf.keras.Sequential(): stack layers\n",
    "# tf.keras.layers.Flatten(original shape): flattens a tensor into a vector\n",
    "# tf.keras.layers.Dense(output size): calculates the dot product of the inputs and the wights and adds the bias. Can also apply activation function"
   ]
  },
  {
   "cell_type": "markdown",
   "metadata": {},
   "source": [
    "#### Choose the optimizer and the loss function"
   ]
  },
  {
   "cell_type": "code",
   "execution_count": 9,
   "metadata": {},
   "outputs": [],
   "source": [
    "model_1.compile(optimizer='Adam',loss='sparse_categorical_crossentropy', metrics=['accuracy'])\n",
    "\n",
    "#categorical_crossentropy: did one-hot encoded the targets\n",
    "#sparse_categorical_crossentropy: apply one-hot encoding for you"
   ]
  },
  {
   "cell_type": "markdown",
   "metadata": {},
   "source": [
    "#### Training"
   ]
  },
  {
   "cell_type": "code",
   "execution_count": 10,
   "metadata": {},
   "outputs": [
    {
     "name": "stdout",
     "output_type": "stream",
     "text": [
      "Epoch 1/5\n",
      "540/540 - 10s - loss: 0.3360 - accuracy: 0.9050 - val_loss: 0.0000e+00 - val_accuracy: 0.0000e+00\n",
      "Epoch 2/5\n",
      "540/540 - 5s - loss: 0.1369 - accuracy: 0.9595 - val_loss: 0.1230 - val_accuracy: 0.9640\n",
      "Epoch 3/5\n",
      "540/540 - 6s - loss: 0.0964 - accuracy: 0.9708 - val_loss: 0.0983 - val_accuracy: 0.9715\n",
      "Epoch 4/5\n",
      "540/540 - 6s - loss: 0.0754 - accuracy: 0.9770 - val_loss: 0.0837 - val_accuracy: 0.9765\n",
      "Epoch 5/5\n",
      "540/540 - 5s - loss: 0.0609 - accuracy: 0.9818 - val_loss: 0.0710 - val_accuracy: 0.9792\n"
     ]
    },
    {
     "data": {
      "text/plain": [
       "<tensorflow.python.keras.callbacks.History at 0x21d77d1cc08>"
      ]
     },
     "execution_count": 10,
     "metadata": {},
     "output_type": "execute_result"
    }
   ],
   "source": [
    "NUM_EPOCHS = 5\n",
    "\n",
    "model_1.fit(train_data,epochs=NUM_EPOCHS,validation_data = (val_inputs, val_targets),validation_steps=1,verbose=2)"
   ]
  },
  {
   "cell_type": "markdown",
   "metadata": {},
   "source": [
    "### Model 2 "
   ]
  },
  {
   "cell_type": "code",
   "execution_count": 11,
   "metadata": {},
   "outputs": [],
   "source": [
    "input_size = 784\n",
    "output_size = 10\n",
    "hidden_layer_size = 200\n",
    "\n",
    "model_2 = tf.keras.Sequential([\n",
    "                            tf.keras.layers.Flatten(input_shape = (28,28,1)),\n",
    "                            tf.keras.layers.Dense(hidden_layer_size, activation='relu'),\n",
    "                            tf.keras.layers.Dense(hidden_layer_size, activation='relu'),\n",
    "                            tf.keras.layers.Dense(output_size, activation='softmax'),\n",
    "])\n",
    "\n",
    "model_2.compile(optimizer='Adam',loss='sparse_categorical_crossentropy', metrics=['accuracy'])"
   ]
  },
  {
   "cell_type": "code",
   "execution_count": 12,
   "metadata": {},
   "outputs": [
    {
     "name": "stdout",
     "output_type": "stream",
     "text": [
      "Epoch 1/5\n",
      "540/540 - 6s - loss: 0.2706 - accuracy: 0.9224 - val_loss: 0.0000e+00 - val_accuracy: 0.0000e+00\n",
      "Epoch 2/5\n",
      "540/540 - 6s - loss: 0.1059 - accuracy: 0.9682 - val_loss: 0.1073 - val_accuracy: 0.9680\n",
      "Epoch 3/5\n",
      "540/540 - 6s - loss: 0.0716 - accuracy: 0.9779 - val_loss: 0.0801 - val_accuracy: 0.9758\n",
      "Epoch 4/5\n",
      "540/540 - 6s - loss: 0.0516 - accuracy: 0.9837 - val_loss: 0.0658 - val_accuracy: 0.9777\n",
      "Epoch 5/5\n",
      "540/540 - 6s - loss: 0.0403 - accuracy: 0.9871 - val_loss: 0.0485 - val_accuracy: 0.9857\n"
     ]
    },
    {
     "data": {
      "text/plain": [
       "<tensorflow.python.keras.callbacks.History at 0x21d020d75c8>"
      ]
     },
     "execution_count": 12,
     "metadata": {},
     "output_type": "execute_result"
    }
   ],
   "source": [
    "NUM_EPOCHS = 5\n",
    "\n",
    "model_2.fit(train_data,epochs=NUM_EPOCHS,validation_data = (val_inputs, val_targets),validation_steps=1,verbose=2)"
   ]
  },
  {
   "cell_type": "markdown",
   "metadata": {},
   "source": [
    "### Model 3"
   ]
  },
  {
   "cell_type": "code",
   "execution_count": 13,
   "metadata": {},
   "outputs": [],
   "source": [
    "input_size = 784\n",
    "output_size = 10\n",
    "hidden_layer_size = 200\n",
    "\n",
    "model_3 = tf.keras.Sequential([\n",
    "                            tf.keras.layers.Flatten(input_shape = (28,28,1)),\n",
    "                            tf.keras.layers.Dense(hidden_layer_size, activation='relu'),\n",
    "                            tf.keras.layers.Dense(hidden_layer_size, activation='relu'),\n",
    "                            tf.keras.layers.Dense(hidden_layer_size, activation='relu'),\n",
    "                            tf.keras.layers.Dense(output_size, activation='softmax'),\n",
    "])\n",
    "\n",
    "model_3.compile(optimizer='Adam',loss='sparse_categorical_crossentropy', metrics=['accuracy'])"
   ]
  },
  {
   "cell_type": "code",
   "execution_count": 14,
   "metadata": {},
   "outputs": [
    {
     "name": "stdout",
     "output_type": "stream",
     "text": [
      "Epoch 1/5\n",
      "540/540 - 7s - loss: 0.2708 - accuracy: 0.9194 - val_loss: 0.0000e+00 - val_accuracy: 0.0000e+00\n",
      "Epoch 2/5\n",
      "540/540 - 6s - loss: 0.1020 - accuracy: 0.9686 - val_loss: 0.0897 - val_accuracy: 0.9737\n",
      "Epoch 3/5\n",
      "540/540 - 6s - loss: 0.0699 - accuracy: 0.9783 - val_loss: 0.0671 - val_accuracy: 0.9797\n",
      "Epoch 4/5\n",
      "540/540 - 6s - loss: 0.0505 - accuracy: 0.9840 - val_loss: 0.0662 - val_accuracy: 0.9805\n",
      "Epoch 5/5\n",
      "540/540 - 6s - loss: 0.0405 - accuracy: 0.9871 - val_loss: 0.0596 - val_accuracy: 0.9822\n"
     ]
    },
    {
     "data": {
      "text/plain": [
       "<tensorflow.python.keras.callbacks.History at 0x21d03730288>"
      ]
     },
     "execution_count": 14,
     "metadata": {},
     "output_type": "execute_result"
    }
   ],
   "source": [
    "NUM_EPOCHS = 5\n",
    "\n",
    "model_3.fit(train_data,epochs=NUM_EPOCHS,validation_data = (val_inputs, val_targets),validation_steps=1,verbose=2)"
   ]
  },
  {
   "cell_type": "markdown",
   "metadata": {},
   "source": [
    "### Test all models"
   ]
  },
  {
   "cell_type": "code",
   "execution_count": 15,
   "metadata": {},
   "outputs": [
    {
     "name": "stdout",
     "output_type": "stream",
     "text": [
      "1/1 [==============================] - 1s 1s/step - loss: 0.0789 - accuracy: 0.9756\n",
      "Model 1. Test loss: 0.08. Test accuracy: 97.56%\n",
      "1/1 [==============================] - 1s 942ms/step - loss: 0.0774 - accuracy: 0.9770\n",
      "Model 2. Test loss: 0.08. Test accuracy: 97.70%\n",
      "1/1 [==============================] - 1s 877ms/step - loss: 0.0826 - accuracy: 0.9765\n",
      "Model 3. Test loss: 0.08. Test accuracy: 97.65%\n"
     ]
    }
   ],
   "source": [
    "test_loss_1,test_accuracy_1 = model_1.evaluate(test_data)\n",
    "print('Model 1. Test loss: {0:.2f}. Test accuracy: {1:.2f}%'.format(test_loss_1,test_accuracy_1*100.))\n",
    "\n",
    "test_loss_2,test_accuracy_2 = model_2.evaluate(test_data)\n",
    "print('Model 2. Test loss: {0:.2f}. Test accuracy: {1:.2f}%'.format(test_loss_2,test_accuracy_2*100.))\n",
    "\n",
    "test_loss_3,test_accuracy_3 = model_3.evaluate(test_data)\n",
    "print('Model 3. Test loss: {0:.2f}. Test accuracy: {1:.2f}%'.format(test_loss_3,test_accuracy_3*100.))"
   ]
  }
 ],
 "metadata": {
  "kernelspec": {
   "display_name": "Python 3",
   "language": "python",
   "name": "python3"
  },
  "language_info": {
   "codemirror_mode": {
    "name": "ipython",
    "version": 3
   },
   "file_extension": ".py",
   "mimetype": "text/x-python",
   "name": "python",
   "nbconvert_exporter": "python",
   "pygments_lexer": "ipython3",
   "version": "3.7.6"
  }
 },
 "nbformat": 4,
 "nbformat_minor": 4
}
